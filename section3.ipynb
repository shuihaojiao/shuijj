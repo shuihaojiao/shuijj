{
 "cells": [
  {
   "cell_type": "markdown",
   "id": "fc350cb0-11d5-473f-a361-7f67a2a53f13",
   "metadata": {},
   "source": [
    "# （一）字典"
   ]
  },
  {
   "cell_type": "code",
   "execution_count": 1,
   "id": "ebcb3371-c89e-499e-9b96-65a33e088961",
   "metadata": {},
   "outputs": [
    {
     "data": {
      "text/plain": [
       "'b'"
      ]
     },
     "execution_count": 1,
     "metadata": {},
     "output_type": "execute_result"
    }
   ],
   "source": [
    "things = ['a','b','c','d']\n",
    "things[1]"
   ]
  },
  {
   "cell_type": "code",
   "execution_count": 2,
   "id": "ba8d1305-11aa-4bcd-87ed-d2c786ecf157",
   "metadata": {},
   "outputs": [
    {
     "data": {
      "text/plain": [
       "'z'"
      ]
     },
     "execution_count": 2,
     "metadata": {},
     "output_type": "execute_result"
    }
   ],
   "source": [
    "things[1]='z'\n",
    "things[1]"
   ]
  },
  {
   "cell_type": "code",
   "execution_count": 3,
   "id": "acc0f4d8-e967-4b37-b33b-e94bb4e46c51",
   "metadata": {},
   "outputs": [
    {
     "data": {
      "text/plain": [
       "['a', 'z', 'c', 'd']"
      ]
     },
     "execution_count": 3,
     "metadata": {},
     "output_type": "execute_result"
    }
   ],
   "source": [
    "things"
   ]
  },
  {
   "cell_type": "markdown",
   "id": "aabdc575-1c43-4507-b879-4c21816cb857",
   "metadata": {},
   "source": [
    "列表只能用数字来索引列表"
   ]
  },
  {
   "cell_type": "code",
   "execution_count": 4,
   "id": "99259adb-85e5-4719-8dbd-e8a694986f03",
   "metadata": {},
   "outputs": [
    {
     "data": {
      "text/plain": [
       "'zed'"
      ]
     },
     "execution_count": 4,
     "metadata": {},
     "output_type": "execute_result"
    }
   ],
   "source": [
    "stuff = {'name': 'zed', 'age': 39, 'height': 6*12+2}\n",
    "stuff['name']"
   ]
  },
  {
   "cell_type": "code",
   "execution_count": 5,
   "id": "f0cf6856-8b15-4736-a152-e39dd8ca516e",
   "metadata": {},
   "outputs": [
    {
     "data": {
      "text/plain": [
       "74"
      ]
     },
     "execution_count": 5,
     "metadata": {},
     "output_type": "execute_result"
    }
   ],
   "source": [
    "stuff['height']"
   ]
  },
  {
   "cell_type": "code",
   "execution_count": 6,
   "id": "987f5348-f8ac-46af-ad49-fd2f81261ee9",
   "metadata": {},
   "outputs": [
    {
     "data": {
      "text/plain": [
       "'SF'"
      ]
     },
     "execution_count": 6,
     "metadata": {},
     "output_type": "execute_result"
    }
   ],
   "source": [
    "stuff['city']='SF'\n",
    "stuff['city']"
   ]
  },
  {
   "cell_type": "code",
   "execution_count": 7,
   "id": "e7acaf5d-9147-4d91-80f1-060cad22ab55",
   "metadata": {},
   "outputs": [
    {
     "data": {
      "text/plain": [
       "'Wow'"
      ]
     },
     "execution_count": 7,
     "metadata": {},
     "output_type": "execute_result"
    }
   ],
   "source": [
    "stuff[1] = \"Wow\"\n",
    "stuff[1]"
   ]
  },
  {
   "cell_type": "code",
   "execution_count": 8,
   "id": "5f02ffbf-be19-4bce-9042-e79307640e27",
   "metadata": {},
   "outputs": [
    {
     "data": {
      "text/plain": [
       "'Neato'"
      ]
     },
     "execution_count": 8,
     "metadata": {},
     "output_type": "execute_result"
    }
   ],
   "source": [
    "stuff[2] = \"Neato\"\n",
    "stuff[2]"
   ]
  },
  {
   "cell_type": "code",
   "execution_count": 9,
   "id": "6264c937-0ecd-4ea5-a7aa-ccf4037eb6ae",
   "metadata": {},
   "outputs": [],
   "source": [
    "del stuff['city']"
   ]
  },
  {
   "cell_type": "code",
   "execution_count": 10,
   "id": "0e83759e-eac3-450a-8e02-9bc4f554ca42",
   "metadata": {},
   "outputs": [
    {
     "data": {
      "text/plain": [
       "{'name': 'zed', 'age': 39, 'height': 74, 1: 'Wow', 2: 'Neato'}"
      ]
     },
     "execution_count": 10,
     "metadata": {},
     "output_type": "execute_result"
    }
   ],
   "source": [
    "stuff"
   ]
  },
  {
   "cell_type": "code",
   "execution_count": 15,
   "id": "df673eb2-d4b9-43e1-baf9-aa942c449337",
   "metadata": {},
   "outputs": [
    {
     "name": "stdout",
     "output_type": "stream",
     "text": [
      "----------\n",
      "保定是 保定市\n"
     ]
    }
   ],
   "source": [
    "provinces = {'湖北': '鄂', '湖南': '湘', '广州': '粤', '河北': '冀'}\n",
    "cities = {'武汉': '武汉市', '荆州': '荆州市', '江陵': \"江陵县\"}\n",
    "cities['保定'] = '保定市'\n",
    "print('-'*10)\n",
    "print(\"保定是\", cities['保定'])"
   ]
  },
  {
   "cell_type": "code",
   "execution_count": 16,
   "id": "0fd26c5d-522d-4722-b169-48ad2e09c0d3",
   "metadata": {},
   "outputs": [
    {
     "name": "stdout",
     "output_type": "stream",
     "text": [
      "湖北的缩写是 鄂\n"
     ]
    }
   ],
   "source": [
    "print('湖北的缩写是', provinces['湖北'])"
   ]
  },
  {
   "cell_type": "code",
   "execution_count": 18,
   "id": "10a5f355-bace-4a59-b7b3-52e93edffd17",
   "metadata": {},
   "outputs": [
    {
     "name": "stdout",
     "output_type": "stream",
     "text": [
      "湖北是 中国 湖北\n"
     ]
    }
   ],
   "source": [
    "cities['鄂']='湖北'\n",
    "print('湖北是', '中国', cities[provinces['湖北']])"
   ]
  },
  {
   "cell_type": "code",
   "execution_count": 19,
   "id": "3cb69863-b578-44ad-993f-995b6eec04fb",
   "metadata": {},
   "outputs": [
    {
     "name": "stdout",
     "output_type": "stream",
     "text": [
      "湖北的缩写是鄂\n",
      "湖南的缩写是湘\n",
      "广州的缩写是粤\n",
      "河北的缩写是冀\n"
     ]
    }
   ],
   "source": [
    "for provinces, abbrev in list(states.items()):\n",
    "    print(f\"{provinces}的缩写是{abbrev}\")"
   ]
  },
  {
   "cell_type": "code",
   "execution_count": 21,
   "id": "7403080d-6354-4f09-9f05-527672aa4ae5",
   "metadata": {},
   "outputs": [],
   "source": [
    "state = states.get('Texas')\n",
    "# if not state:\n",
    "#     print('没有找到Texes')"
   ]
  },
  {
   "cell_type": "code",
   "execution_count": 23,
   "id": "ae2a403b-4fb2-43ac-bc39-2f7fc1eafb68",
   "metadata": {},
   "outputs": [],
   "source": [
    "state"
   ]
  },
  {
   "cell_type": "markdown",
   "id": "4c0fc16f-1903-4bf4-8159-d6e8897121a7",
   "metadata": {},
   "source": [
    "原来如此，没有找到就是空，不会报错"
   ]
  },
  {
   "cell_type": "markdown",
   "id": "b08ddbab-f02c-48a2-922d-fc27049b2833",
   "metadata": {},
   "source": [
    "# （二）元组\n",
    "元组用 () 标识。内部元素用逗号隔开。但是元组不能二次赋值，相当于只读列表。"
   ]
  },
  {
   "cell_type": "code",
   "execution_count": 24,
   "id": "475316b9-133c-4fb4-8865-d2d7d856dfab",
   "metadata": {},
   "outputs": [
    {
     "data": {
      "text/plain": [
       "('runoob', 786, 2.23, 'john', 70.2)"
      ]
     },
     "execution_count": 24,
     "metadata": {},
     "output_type": "execute_result"
    }
   ],
   "source": [
    "tuple_1=('runoob', 786 , 2.23, 'john', 70.2)\n",
    "tinytuple = (123, \"john\")\n",
    "tuple_1"
   ]
  },
  {
   "cell_type": "code",
   "execution_count": 25,
   "id": "7c39c5e8-9942-481b-a3bb-f6860bd83a8d",
   "metadata": {},
   "outputs": [
    {
     "data": {
      "text/plain": [
       "'runoob'"
      ]
     },
     "execution_count": 25,
     "metadata": {},
     "output_type": "execute_result"
    }
   ],
   "source": [
    "tuple_1[0]"
   ]
  },
  {
   "cell_type": "code",
   "execution_count": 26,
   "id": "7d38f703-f785-45f7-bccc-3bd698df0b28",
   "metadata": {},
   "outputs": [
    {
     "data": {
      "text/plain": [
       "(786, 2.23)"
      ]
     },
     "execution_count": 26,
     "metadata": {},
     "output_type": "execute_result"
    }
   ],
   "source": [
    "tuple_1[1:3]"
   ]
  },
  {
   "cell_type": "code",
   "execution_count": 28,
   "id": "b0e0b76a-94c1-4d9a-ac31-ebd768a48e16",
   "metadata": {},
   "outputs": [
    {
     "data": {
      "text/plain": [
       "(2.23, 'john', 70.2)"
      ]
     },
     "execution_count": 28,
     "metadata": {},
     "output_type": "execute_result"
    }
   ],
   "source": [
    "tuple_1[2:]"
   ]
  },
  {
   "cell_type": "code",
   "execution_count": 29,
   "id": "f8c32b6a-5ba9-44fa-9bac-a07e36abd033",
   "metadata": {},
   "outputs": [
    {
     "data": {
      "text/plain": [
       "(123, 'john', 123, 'john')"
      ]
     },
     "execution_count": 29,
     "metadata": {},
     "output_type": "execute_result"
    }
   ],
   "source": [
    "tinytuple*2"
   ]
  },
  {
   "cell_type": "code",
   "execution_count": 30,
   "id": "713d2352-2222-499a-8a02-6393a61e71e2",
   "metadata": {},
   "outputs": [
    {
     "data": {
      "text/plain": [
       "('runoob', 786, 2.23, 'john', 70.2, 123, 'john')"
      ]
     },
     "execution_count": 30,
     "metadata": {},
     "output_type": "execute_result"
    }
   ],
   "source": [
    "tuple_1+tinytuple"
   ]
  },
  {
   "cell_type": "code",
   "execution_count": 31,
   "id": "1ac9d13a-5b85-4577-a852-e73718131be9",
   "metadata": {},
   "outputs": [],
   "source": [
    "list_1 = [ 'runoob', 786 , 2.23, 'john', 70.2 ]"
   ]
  },
  {
   "cell_type": "code",
   "execution_count": 32,
   "id": "e8538ebd-5253-47ab-bdc5-f31dc93e11f6",
   "metadata": {},
   "outputs": [
    {
     "ename": "TypeError",
     "evalue": "'tuple' object does not support item assignment",
     "output_type": "error",
     "traceback": [
      "\u001b[1;31m---------------------------------------------------------------------------\u001b[0m",
      "\u001b[1;31mTypeError\u001b[0m                                 Traceback (most recent call last)",
      "Cell \u001b[1;32mIn[32], line 1\u001b[0m\n\u001b[1;32m----> 1\u001b[0m tuple_1[\u001b[38;5;241m2\u001b[39m]\u001b[38;5;241m=\u001b[39m\u001b[38;5;241m1000\u001b[39m\n",
      "\u001b[1;31mTypeError\u001b[0m: 'tuple' object does not support item assignment"
     ]
    }
   ],
   "source": [
    "tuple_1[2]=1000\n",
    "# 会报错"
   ]
  },
  {
   "cell_type": "code",
   "execution_count": 35,
   "id": "3c0aa157-9ab7-45b6-b50a-edf763de7962",
   "metadata": {},
   "outputs": [
    {
     "data": {
      "text/plain": [
       "['runoob', 786, 1000, 'john', 70.2]"
      ]
     },
     "execution_count": 35,
     "metadata": {},
     "output_type": "execute_result"
    }
   ],
   "source": [
    "list_1[2]=1000\n",
    "list_1"
   ]
  },
  {
   "cell_type": "markdown",
   "id": "b9cdcbef-d969-488b-a632-890670ad0b9d",
   "metadata": {},
   "source": [
    "# （三）布尔类型"
   ]
  },
  {
   "cell_type": "code",
   "execution_count": 37,
   "id": "631d81a3-c9a7-453a-8e5c-1ad1c96693a6",
   "metadata": {},
   "outputs": [
    {
     "data": {
      "text/plain": [
       "False"
      ]
     },
     "execution_count": 37,
     "metadata": {},
     "output_type": "execute_result"
    }
   ],
   "source": [
    "1==1 and 2==1"
   ]
  },
  {
   "cell_type": "code",
   "execution_count": 38,
   "id": "607d178d-74f4-410b-9982-5e53584cdacb",
   "metadata": {},
   "outputs": [
    {
     "data": {
      "text/plain": [
       "True"
      ]
     },
     "execution_count": 38,
     "metadata": {},
     "output_type": "execute_result"
    }
   ],
   "source": [
    "'test'=='test'"
   ]
  },
  {
   "cell_type": "code",
   "execution_count": 39,
   "id": "d79cd1aa-cdff-463e-9fee-9b3e676508e0",
   "metadata": {},
   "outputs": [
    {
     "data": {
      "text/plain": [
       "True"
      ]
     },
     "execution_count": 39,
     "metadata": {},
     "output_type": "execute_result"
    }
   ],
   "source": [
    "1==1 or 2==1"
   ]
  },
  {
   "cell_type": "code",
   "execution_count": 40,
   "id": "a6cfd501-6d81-4a92-bb6b-61a9b0d2ab59",
   "metadata": {},
   "outputs": [
    {
     "data": {
      "text/plain": [
       "True"
      ]
     },
     "execution_count": 40,
     "metadata": {},
     "output_type": "execute_result"
    }
   ],
   "source": [
    "1==1 and 2!=1"
   ]
  },
  {
   "cell_type": "markdown",
   "id": "8df86e5d-1f3f-4b53-b9a0-170a4b4f38bb",
   "metadata": {},
   "source": [
    "# （四）读写文件\n",
    "- close--另存为\n",
    "- read--读取内容\n",
    "- readline--读取文本一行内容\n",
    "- truncate--清空\n",
    "- write('stuff')--写入\n",
    "- seek(0)--把读写位置移到开头\n"
   ]
  },
  {
   "cell_type": "code",
   "execution_count": 53,
   "id": "7faaa0ba-4646-4406-b30e-dffbd6bd738a",
   "metadata": {},
   "outputs": [
    {
     "name": "stdout",
     "output_type": "stream",
     "text": [
      "text1.txt\n",
      "We're going to erase text1.txt.\n",
      "If you don't want that, hit CTRL-C (^C).\n",
      "If you do want that, hit RETURN.\n",
      "Opening the file...\n",
      "Truncating the file. Goodbye!\n"
     ]
    },
    {
     "data": {
      "text/plain": [
       "0"
      ]
     },
     "execution_count": 53,
     "metadata": {},
     "output_type": "execute_result"
    }
   ],
   "source": [
    "from sys import argv\n",
    "filename = 'text1.txt'\n",
    "print(filename)\n",
    "print(f\"We're going to erase {filename}.\")\n",
    "print(\"If you don't want that, hit CTRL-C (^C).\")\n",
    "print(\"If you do want that, hit RETURN.\")\n",
    "# input(\"?\")\n",
    "print(\"Opening the file...\")\n",
    "target = open('text1.txt', 'w')\n",
    "print(\"Truncating the file. Goodbye!\")\n",
    "target.truncate()\n"
   ]
  },
  {
   "cell_type": "code",
   "execution_count": 54,
   "id": "ad04afce-9c31-4bfd-a57f-262d16138845",
   "metadata": {},
   "outputs": [
    {
     "name": "stdout",
     "output_type": "stream",
     "text": [
      "Now I'm going to ask you for three lines.\n"
     ]
    },
    {
     "name": "stdin",
     "output_type": "stream",
     "text": [
      "line 1:  2\n",
      "line 2:  5\n",
      "line 3:  6\n"
     ]
    },
    {
     "name": "stdout",
     "output_type": "stream",
     "text": [
      "I'm going to write these to the file.\n",
      "And finally, we close it.\n"
     ]
    }
   ],
   "source": [
    "print(\"Now I'm going to ask you for three lines.\")\n",
    "line1 = input(\"line 1: \")\n",
    "line2 = input(\"line 2: \")\n",
    "line3 = input(\"line 3: \")\n",
    "print(\"I'm going to write these to the file.\")\n",
    "target.write(line1)\n",
    "target.write(\"\\n\")\n",
    "target.write(line2)\n",
    "target.write(\"\\n\")\n",
    "target.write(line3)\n",
    "target.write(\"\\n\")\n",
    "\n",
    "print(\"And finally, we close it.\")\n",
    "target.close()"
   ]
  },
  {
   "cell_type": "markdown",
   "id": "57024da7-4d73-487a-9810-a71482d6ac27",
   "metadata": {},
   "source": [
    "truncate() 对于 'w' 参数来说是必须的吗？ 详见附加练习 5。\n",
    "\n",
    "'w' 到底是什么意思？ 它真的只是一个有字符的字符串，来表示文件的一种模式。如果你用了 'w' ，就代表你说“用 ‘write’ 模式打开这个文件。此外还有 'r' 表示 read 模式，'a' 表示增补模式，后面还可能加一些修饰符（modifiers）。"
   ]
  },
  {
   "cell_type": "code",
   "execution_count": 55,
   "id": "2e2ec8c7-17d1-4322-ab0c-02e02b776d7f",
   "metadata": {},
   "outputs": [],
   "source": [
    "my_text = \"今天又是一周的开始，打起精神认真赚钱不含参\"\n",
    "with open(\"text1.txt\", \"w\", encoding=\"utf-8\") as f:\n",
    "    f.write(my_text)"
   ]
  },
  {
   "cell_type": "markdown",
   "id": "aa636787-53d0-4f05-b671-6bba98176f1a",
   "metadata": {},
   "source": [
    "写入数据的时候最好是指定一下文件的编码方式，不然下次读取的时候可能就读取不了了（出现乱码）。经常遇到的问题是中文的保存，会以各种各样的编码方式保存。但其实在读取的时候选择对应的编码方式仍旧可以打开但直接保存为utf-8一劳永逸。特别是使用pandas将含有中文数据的DataFrame对象保存为csv文件的时候，有一个具体的编码方式需要指定。"
   ]
  },
  {
   "cell_type": "code",
   "execution_count": null,
   "id": "fb24546d-9a66-4792-bd98-2aded5d87910",
   "metadata": {},
   "outputs": [],
   "source": []
  }
 ],
 "metadata": {
  "kernelspec": {
   "display_name": "Python 3 (ipykernel)",
   "language": "python",
   "name": "python3"
  },
  "language_info": {
   "codemirror_mode": {
    "name": "ipython",
    "version": 3
   },
   "file_extension": ".py",
   "mimetype": "text/x-python",
   "name": "python",
   "nbconvert_exporter": "python",
   "pygments_lexer": "ipython3",
   "version": "3.10.9"
  }
 },
 "nbformat": 4,
 "nbformat_minor": 5
}
