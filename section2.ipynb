{
 "cells": [
  {
   "cell_type": "markdown",
   "id": "22974c7c-35b2-4d35-b8b0-de4ad7ff46cb",
   "metadata": {},
   "source": [
    "# (1)实现第一行代码和认识注释"
   ]
  },
  {
   "cell_type": "code",
   "execution_count": 2,
   "id": "669b1945-5dd1-46d9-a2b9-86d9f57bbd9a",
   "metadata": {},
   "outputs": [
    {
     "name": "stdout",
     "output_type": "stream",
     "text": [
      "hello world\n"
     ]
    }
   ],
   "source": [
    "print('hello world')"
   ]
  },
  {
   "cell_type": "markdown",
   "id": "8ade419d-7165-4503-92dc-ca7761620b98",
   "metadata": {},
   "source": [
    "认识注释，注释是由# 加相关备注，但是不会在代码中运行，可以作为帮助理解的功能"
   ]
  },
  {
   "cell_type": "code",
   "execution_count": 3,
   "id": "5b3ccc33-799a-4c4d-9a70-0d3a0a9b3457",
   "metadata": {},
   "outputs": [
    {
     "name": "stdout",
     "output_type": "stream",
     "text": [
      "hello world\n"
     ]
    }
   ],
   "source": [
    "# 这是一个注释\n",
    "print('hello world')"
   ]
  },
  {
   "cell_type": "markdown",
   "id": "76b7b037-cee2-4666-bf66-08c5b89c5015",
   "metadata": {},
   "source": [
    "# (2)数学运算\n",
    "加减乘除等以及特殊符号\n",
    "\n",
    "- \\+ plus，加号 \n",
    "- \\- minus，减号 \n",
    "- \\/ slash，斜杠 \n",
    "- \\* asterisk，星号 \n",
    "- \\% percent，百分号 这里应该是余数\n",
    "- \\< less-than，小于号 \n",
    "- \\> greater-than，大于号 \n",
    "- \\<= less-than-equal，小于等于号 \n",
    "- \\>= greater-than-equal，大于等于号"
   ]
  },
  {
   "cell_type": "code",
   "execution_count": 4,
   "id": "ecbee322-6cac-4e93-a9a5-c8c7f955e16d",
   "metadata": {},
   "outputs": [
    {
     "name": "stdout",
     "output_type": "stream",
     "text": [
      "I will now count my chickens:\n"
     ]
    }
   ],
   "source": [
    "print('I will now count my chickens:')"
   ]
  },
  {
   "cell_type": "code",
   "execution_count": 1,
   "id": "e82fb30e-4000-48ce-a60b-31d87619f127",
   "metadata": {},
   "outputs": [
    {
     "name": "stdout",
     "output_type": "stream",
     "text": [
      "hens 30.0\n"
     ]
    }
   ],
   "source": [
    "print('hens',25+30/6)"
   ]
  },
  {
   "cell_type": "code",
   "execution_count": 2,
   "id": "ef2b803c-6b1a-4d92-b15b-1e1c0ac9062b",
   "metadata": {},
   "outputs": [
    {
     "name": "stdout",
     "output_type": "stream",
     "text": [
      "Roosters 97\n"
     ]
    }
   ],
   "source": [
    "print('Roosters',100-25*3%4)"
   ]
  },
  {
   "cell_type": "code",
   "execution_count": 6,
   "id": "667b3f25-f8a5-46e7-80df-5ec9159d68d9",
   "metadata": {},
   "outputs": [
    {
     "name": "stdout",
     "output_type": "stream",
     "text": [
      "75\n",
      "3\n",
      "3\n"
     ]
    }
   ],
   "source": [
    "print(25*3)\n",
    "print(3%4)\n",
    "print(25*3%4)"
   ]
  },
  {
   "cell_type": "code",
   "execution_count": 7,
   "id": "4a1e9472-5b17-4559-932b-29b003b62b48",
   "metadata": {},
   "outputs": [
    {
     "name": "stdout",
     "output_type": "stream",
     "text": [
      "Now I will count the eggs:\n"
     ]
    }
   ],
   "source": [
    "print('Now I will count the eggs:')"
   ]
  },
  {
   "cell_type": "code",
   "execution_count": 8,
   "id": "c3fc0920-f2b3-48c9-8667-4ef0b5f61824",
   "metadata": {},
   "outputs": [
    {
     "name": "stdout",
     "output_type": "stream",
     "text": [
      "6.75\n"
     ]
    }
   ],
   "source": [
    "print(3+2+1-5+4%2-1/4+6)"
   ]
  },
  {
   "cell_type": "code",
   "execution_count": 9,
   "id": "28572077-0238-45c0-9df5-34a169d9066c",
   "metadata": {},
   "outputs": [
    {
     "name": "stdout",
     "output_type": "stream",
     "text": [
      "is it true that 3+2<5-7\n"
     ]
    }
   ],
   "source": [
    "print('is it true that 3+2<5-7')"
   ]
  },
  {
   "cell_type": "code",
   "execution_count": 10,
   "id": "a9d87b3c-0b6e-4c14-9f7f-6e3d7bdd0bd4",
   "metadata": {},
   "outputs": [
    {
     "name": "stdout",
     "output_type": "stream",
     "text": [
      "False\n"
     ]
    }
   ],
   "source": [
    "print(3 + 2 < 5 - 7)"
   ]
  },
  {
   "cell_type": "code",
   "execution_count": 11,
   "id": "83cdc8e7-0944-4075-b939-178012f4abe9",
   "metadata": {},
   "outputs": [
    {
     "name": "stdout",
     "output_type": "stream",
     "text": [
      "what is 3+2 5\n"
     ]
    }
   ],
   "source": [
    "print('what is 3+2',3+2)"
   ]
  },
  {
   "cell_type": "code",
   "execution_count": 12,
   "id": "90bfaeeb-f3fc-4118-b5f9-65a15bebc361",
   "metadata": {},
   "outputs": [
    {
     "name": "stdout",
     "output_type": "stream",
     "text": [
      "what is 5 - 7 ? -2\n"
     ]
    }
   ],
   "source": [
    "print('what is 5 - 7 ?', 5-7)"
   ]
  },
  {
   "cell_type": "code",
   "execution_count": 13,
   "id": "ad51efff-36ec-4a22-82dc-6b792064d906",
   "metadata": {},
   "outputs": [
    {
     "name": "stdout",
     "output_type": "stream",
     "text": [
      "oh!that's why it's False\n"
     ]
    }
   ],
   "source": [
    "print(\"oh!that's why it's False\")"
   ]
  },
  {
   "cell_type": "markdown",
   "id": "ad72f399-eb7f-4200-aef5-b90fc42f31f7",
   "metadata": {},
   "source": [
    "上面这句话中引号不能用''  \n",
    "不然识别不清"
   ]
  },
  {
   "cell_type": "code",
   "execution_count": 14,
   "id": "3250c42b-c64c-41e9-9ff8-cc2eb9a60482",
   "metadata": {},
   "outputs": [
    {
     "name": "stdout",
     "output_type": "stream",
     "text": [
      "Is it greater? True\n"
     ]
    }
   ],
   "source": [
    "print(\"Is it greater?\",5>-2)"
   ]
  },
  {
   "cell_type": "code",
   "execution_count": 15,
   "id": "61028f54-4c2b-45f4-bf6c-a786def113e2",
   "metadata": {},
   "outputs": [
    {
     "name": "stdout",
     "output_type": "stream",
     "text": [
      "Is it greater or equal? True\n"
     ]
    }
   ],
   "source": [
    "print(\"Is it greater or equal?\",5>=-2)"
   ]
  },
  {
   "cell_type": "code",
   "execution_count": 16,
   "id": "ca776be7-7829-4ff7-8096-dc5a1cf9ca57",
   "metadata": {},
   "outputs": [
    {
     "name": "stdout",
     "output_type": "stream",
     "text": [
      "Is it less or equal? False\n"
     ]
    }
   ],
   "source": [
    "print(\"Is it less or equal?\",5<=-2)"
   ]
  },
  {
   "cell_type": "markdown",
   "id": "f6c7d724-5c61-43ec-8b15-88d5cba1d054",
   "metadata": {},
   "source": [
    "# （3）字符串和文本"
   ]
  },
  {
   "cell_type": "code",
   "execution_count": 1,
   "id": "9a7307a9-3d52-48aa-9831-57cafec0b75d",
   "metadata": {},
   "outputs": [],
   "source": [
    "cars = 100\n",
    "space_in_a_car = 4.0\n",
    "drivers = 30\n",
    "passengers = 90\n",
    "cars_not_driven = cars - drivers\n",
    "cars_driven = drivers\n",
    "carpool_capacity = cars_driven * space_in_a_car\n",
    "average_passengers_per_car = passengers/cars_driven"
   ]
  },
  {
   "cell_type": "code",
   "execution_count": 2,
   "id": "11be566a-a66a-431c-9eda-045fa0a5661d",
   "metadata": {},
   "outputs": [
    {
     "name": "stdout",
     "output_type": "stream",
     "text": [
      "There are 100 cars available.\n",
      "There are only 30 drivers available.\n",
      "There will be 70 empty cars today.\n",
      "We can transport 120.0 people today.\n",
      "We have 90 to carpool today.\n",
      "We need to put about 3.0 in each car.\n"
     ]
    }
   ],
   "source": [
    "print('There are', cars, 'cars available.')\n",
    "print(\"There are only\", drivers, \"drivers available.\")\n",
    "print(\"There will be\", cars_not_driven, \"empty cars today.\")\n",
    "print(\"We can transport\", carpool_capacity, \"people today.\")\n",
    "print(\"We have\", passengers, \"to carpool today.\")\n",
    "print(\"We need to put about\", average_passengers_per_car,\"in each car.\")"
   ]
  },
  {
   "cell_type": "code",
   "execution_count": 3,
   "id": "7018e01a-99a7-48b8-b8b1-d11341af486b",
   "metadata": {},
   "outputs": [],
   "source": [
    "my_name = 'cy'\n",
    "my_age = 22\n",
    "my_height = 172\n",
    "my_weight = 150\n",
    "my_eyes = 'black'\n",
    "my_teeth ='white'\n",
    "my_hair = 'black'\n"
   ]
  },
  {
   "cell_type": "code",
   "execution_count": 4,
   "id": "d6a0f0fb-bbd7-4d40-8455-6e4cc46fab35",
   "metadata": {},
   "outputs": [
    {
     "name": "stdout",
     "output_type": "stream",
     "text": [
      "let's talk aboutcy.\n",
      "He's 172 cm tall.\n",
      "He's 150 g heavy.\n",
      "He's got black eyes and black hair.\n",
      "His teeth are usually white depending on the coffee.\n"
     ]
    }
   ],
   "source": [
    "print(f\"let's talk about{my_name}.\")\n",
    "print(f\"He's {my_height} cm tall.\")\n",
    "print(f\"He's {my_weight} g heavy.\")\n",
    "print(f\"He's got {my_eyes} eyes and {my_hair} hair.\")\n",
    "print(f\"His teeth are usually {my_teeth} depending on the coffee.\")"
   ]
  },
  {
   "cell_type": "code",
   "execution_count": 5,
   "id": "1af8a5da-4e83-4b68-b943-b2c15f4476fc",
   "metadata": {},
   "outputs": [
    {
     "name": "stdout",
     "output_type": "stream",
     "text": [
      "There are 10 types of people.\n",
      "Those who know binary and those who don't.\n",
      "Isn't that joke so funny?! False\n"
     ]
    }
   ],
   "source": [
    "types_of_people = 10\n",
    "x = f\"There are {types_of_people} types of people.\"\n",
    "print(x)\n",
    "binary = \"binary\"\n",
    "do_not = \"don't\"\n",
    "print(\"Those who know {} and those who {}.\".format(binary, do_not))\n",
    "\n",
    "hilarious = False\n",
    "joke_evaluation = \"Isn't that joke so funny?! {}\"\n",
    "print(joke_evaluation.format(hilarious))"
   ]
  },
  {
   "cell_type": "code",
   "execution_count": 6,
   "id": "3eec6b45-5ce9-4b93-9cda-8ae6f2d0d64a",
   "metadata": {},
   "outputs": [
    {
     "name": "stdout",
     "output_type": "stream",
     "text": [
      "This is the left side of...a string with a right side.\n"
     ]
    }
   ],
   "source": [
    "w = \"This is the left side of...\"\n",
    "e = \"a string with a right side.\"\n",
    "print(w + e)"
   ]
  },
  {
   "cell_type": "markdown",
   "id": "62bf40b8-5625-442c-a39a-5660fe4bf1c5",
   "metadata": {},
   "source": [
    "# （4）列表\n",
    "列表中值的切割也可以用到变量 [头下标:尾下标] ，就可以截取相应的列表，从左到右索引默认 0 开始，从右到左索引默认 -1 开始，下标可以为空表示取到头或尾。"
   ]
  },
  {
   "cell_type": "code",
   "execution_count": 12,
   "id": "35819ed2-8c16-46a7-8e32-cfc3a6cc16fe",
   "metadata": {},
   "outputs": [
    {
     "name": "stdout",
     "output_type": "stream",
     "text": [
      "['runoob', 786, 2.23, 'john', 70.2]\n",
      "runoob\n",
      "[786, 2.23]\n",
      "[2.23, 'john', 70.2]\n",
      "[123, 'john', 123, 'john']\n",
      "['runoob', 786, 2.23, 'john', 70.2, 123, 'john']\n"
     ]
    }
   ],
   "source": [
    "list = ['runoob',786,2.23,'john',70.2]\n",
    "tinylist = [123,'john']\n",
    "print(list)                # 输出完整列表\n",
    "print(list[0])            # 输出列表的第一个元素\n",
    "print(list[1:3])           # 输出第二个至第三个元素 \n",
    "print(list[2:])            # 输出从第三个开始至列表末尾的所有元素\n",
    "print(tinylist * 2)        # 输出列表两次\n",
    "print(list + tinylist)     # 打印组合的列表"
   ]
  },
  {
   "cell_type": "code",
   "execution_count": null,
   "id": "096315d7-73ff-4d16-aa1f-7557c1e1b830",
   "metadata": {},
   "outputs": [],
   "source": []
  }
 ],
 "metadata": {
  "kernelspec": {
   "display_name": "Python 3 (ipykernel)",
   "language": "python",
   "name": "python3"
  },
  "language_info": {
   "codemirror_mode": {
    "name": "ipython",
    "version": 3
   },
   "file_extension": ".py",
   "mimetype": "text/x-python",
   "name": "python",
   "nbconvert_exporter": "python",
   "pygments_lexer": "ipython3",
   "version": "3.10.9"
  }
 },
 "nbformat": 4,
 "nbformat_minor": 5
}
