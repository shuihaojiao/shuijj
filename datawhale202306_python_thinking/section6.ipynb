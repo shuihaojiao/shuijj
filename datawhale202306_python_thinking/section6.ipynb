{
 "cells": [
  {
   "cell_type": "markdown",
   "id": "cbeaec17-7c4a-4c6d-84d3-8459a1022890",
   "metadata": {},
   "source": [
    "# 4.1 IF语句"
   ]
  },
  {
   "cell_type": "code",
   "execution_count": 1,
   "id": "3acac8c8-e13e-4e82-a159-faa8d551a344",
   "metadata": {},
   "outputs": [
    {
     "name": "stdout",
     "output_type": "stream",
     "text": [
      "猫的数量比人多\n"
     ]
    }
   ],
   "source": [
    "people = 20\n",
    "cats = 30\n",
    "dogs = 15\n",
    "if people < cats:\n",
    "    print('猫的数量比人多')"
   ]
  },
  {
   "cell_type": "markdown",
   "id": "fd9d3c63-5ff7-4630-8b9d-42e02e3a156a",
   "metadata": {},
   "source": [
    "#### 如果多个elif块都是True会发生什么？\n",
    "\n",
    "答： Python 从顶部开始，然后运行第一个是True的代码块，也就是说，它只会运行第一个。"
   ]
  },
  {
   "cell_type": "code",
   "execution_count": 4,
   "id": "42223c7a-7086-4a96-8142-bc0c806063d4",
   "metadata": {},
   "outputs": [
    {
     "name": "stdin",
     "output_type": "stream",
     "text": [
      "你面前有两道门，你可以选择进入1门还是2门，请输入1 or 2: 1\n"
     ]
    },
    {
     "name": "stdout",
     "output_type": "stream",
     "text": [
      "这是一个地狱门\n",
      "选择1，见到男恶魔\n",
      "选择2，见到女恶魔\n"
     ]
    },
    {
     "name": "stdin",
     "output_type": "stream",
     "text": [
      "选择： 2\n"
     ]
    },
    {
     "name": "stdout",
     "output_type": "stream",
     "text": [
      "你见到了魅魔，你成为了她的奴隶\n"
     ]
    }
   ],
   "source": [
    "door = input(\"你面前有两道门，你可以选择进入1门还是2门，请输入1 or 2:\")\n",
    "if door == '1':\n",
    "    print(\"这是一个地狱门\")\n",
    "    print(\"选择1，见到男恶魔\")\n",
    "    print(\"选择2，见到女恶魔\")\n",
    "    em = input(\"选择：\")\n",
    "    if em == '1':\n",
    "        print(\"你获得了控制雷电的超能力，统治了世界\")\n",
    "    elif em == '2':\n",
    "        print(\"你见到了魅魔，你成为了她的奴隶\")\n",
    "elif door == '2':\n",
    "    print(\"你来到了天堂，这里的天使把你折磨的生不如死\")"
   ]
  },
  {
   "cell_type": "markdown",
   "id": "bd3291c7-f0e2-4a9f-b933-beca2899c7d8",
   "metadata": {},
   "source": [
    "# 4.2 FOR语句\n"
   ]
  },
  {
   "cell_type": "code",
   "execution_count": 2,
   "id": "2eb0e098-427e-490f-9fbf-260d1e131b27",
   "metadata": {},
   "outputs": [
    {
     "name": "stdout",
     "output_type": "stream",
     "text": [
      "你被红头发魅魔弄的生不如死\n",
      "你被2魅魔弄的生不如死\n",
      "你被4魅魔弄的生不如死\n",
      "你被5魅魔弄的生不如死\n",
      "你被白头发魅魔弄的生不如死\n"
     ]
    }
   ],
   "source": [
    "mms = ['红头发',2,4,5,'白头发']\n",
    "for mm in mms:\n",
    "    print(f\"你被{mm}魅魔弄的生不如死\")"
   ]
  },
  {
   "cell_type": "code",
   "execution_count": 3,
   "id": "e72d3e63-49e3-43de-bfcf-0d9626c98f99",
   "metadata": {},
   "outputs": [
    {
     "name": "stdout",
     "output_type": "stream",
     "text": [
      "你被0魅魔弄的生不如死\n",
      "你被1魅魔弄的生不如死\n",
      "你被2魅魔弄的生不如死\n",
      "你被3魅魔弄的生不如死\n",
      "你被4魅魔弄的生不如死\n",
      "你被5魅魔弄的生不如死\n"
     ]
    }
   ],
   "source": [
    "for i in range(6):\n",
    "     print(f\"你被{i}魅魔弄的生不如死\")"
   ]
  },
  {
   "cell_type": "markdown",
   "id": "da41a643-29cf-4b05-97ad-99c173fb499c",
   "metadata": {},
   "source": [
    "# 4.3 while语句"
   ]
  },
  {
   "cell_type": "code",
   "execution_count": 4,
   "id": "fd28e1ed-882c-49d9-9179-9b00317bacf6",
   "metadata": {},
   "outputs": [
    {
     "name": "stdout",
     "output_type": "stream",
     "text": [
      "你被0号魅魔弄的生不如死\n",
      "你被1号魅魔弄的生不如死\n",
      "你被2号魅魔弄的生不如死\n",
      "你被3号魅魔弄的生不如死\n",
      "你被4号魅魔弄的生不如死\n",
      "你被5号魅魔弄的生不如死\n"
     ]
    }
   ],
   "source": [
    "i = 0\n",
    "while i<6:\n",
    "    print(f\"你被{i}号魅魔弄的生不如死\")\n",
    "    i+=1"
   ]
  },
  {
   "cell_type": "code",
   "execution_count": null,
   "id": "686be384-a7ad-4ff7-afbe-196cf081eb40",
   "metadata": {},
   "outputs": [],
   "source": []
  }
 ],
 "metadata": {
  "kernelspec": {
   "display_name": "Python 3 (ipykernel)",
   "language": "python",
   "name": "python3"
  },
  "language_info": {
   "codemirror_mode": {
    "name": "ipython",
    "version": 3
   },
   "file_extension": ".py",
   "mimetype": "text/x-python",
   "name": "python",
   "nbconvert_exporter": "python",
   "pygments_lexer": "ipython3",
   "version": "3.10.9"
  }
 },
 "nbformat": 4,
 "nbformat_minor": 5
}
