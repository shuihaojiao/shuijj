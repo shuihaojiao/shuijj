{
 "cells": [
  {
   "cell_type": "markdown",
   "id": "df0388d2-15f8-492a-bf9a-b4f9dbb5b565",
   "metadata": {},
   "source": [
    "# 函数\n",
    "可以通过在 Python 中使用 def 来创建一个函数。做一些你自己的“小脚本”或者“微命令”。  \n"
   ]
  },
  {
   "cell_type": "code",
   "execution_count": 1,
   "id": "64e8cd5b-9c81-4d77-8667-eb1164fe2f55",
   "metadata": {},
   "outputs": [],
   "source": [
    "def print_two(args):\n",
    "    arg1, arg2 = args\n",
    "    print(f\"arg1:{arg1},arg2:{arg2}\")"
   ]
  },
  {
   "cell_type": "code",
   "execution_count": 2,
   "id": "3152c6b5-46e6-4498-8f70-c037d65c0b9e",
   "metadata": {},
   "outputs": [
    {
     "name": "stdout",
     "output_type": "stream",
     "text": [
      "arg1:3,arg2:4\n"
     ]
    }
   ],
   "source": [
    "z=['3','4']\n",
    "print_two(z)"
   ]
  },
  {
   "cell_type": "markdown",
   "id": "f6c015d1-eeb1-4611-889d-d58e88a8f44a",
   "metadata": {},
   "source": [
    "想要 *args ，它很像参数 args ，只不过是为函数设的，必须放在括号里面才能工作。"
   ]
  },
  {
   "cell_type": "code",
   "execution_count": 3,
   "id": "8f0d70c2-351b-4228-a967-959ea2c8f8a8",
   "metadata": {},
   "outputs": [
    {
     "name": "stdout",
     "output_type": "stream",
     "text": [
      "arg1:1 ,arg2: 2 \n"
     ]
    }
   ],
   "source": [
    "def print_two(*args):\n",
    "    arg1, arg2 = args\n",
    "    print(f\"arg1:{arg1},arg2:{arg2}\")\n",
    "print_two('1 ', ' 2 ')"
   ]
  },
  {
   "cell_type": "markdown",
   "id": "323a661b-f3d4-4ffe-b2aa-797870b6034b",
   "metadata": {},
   "source": [
    "# （二）函数和变量"
   ]
  },
  {
   "cell_type": "code",
   "execution_count": 8,
   "id": "015d71dd-05bf-449f-bf9c-e1228eb4cad1",
   "metadata": {},
   "outputs": [
    {
     "name": "stdout",
     "output_type": "stream",
     "text": [
      "我有20个奶酪\n",
      "我有30个饼干\n"
     ]
    }
   ],
   "source": [
    "def cheese_and_crackers(cheese_num, crackers_num):\n",
    "    print(f\"我有{cheese_num}个奶酪\")\n",
    "    print(f\"我有{crackers_num}个饼干\")\n",
    "    \n",
    "cheese_num =20\n",
    "crackers_num =30\n",
    "cheese_and_crackers(cheese_num,crackers_num)"
   ]
  },
  {
   "cell_type": "code",
   "execution_count": 9,
   "id": "38bf25e2-dec4-49fe-be43-d5f384be6c7d",
   "metadata": {},
   "outputs": [
    {
     "name": "stdout",
     "output_type": "stream",
     "text": [
      "我有50个奶酪\n",
      "我有50个饼干\n"
     ]
    }
   ],
   "source": [
    "cheese_and_crackers(cheese_num+30, crackers_num+20)"
   ]
  },
  {
   "cell_type": "code",
   "execution_count": null,
   "id": "60475e1c-c2c7-4df0-8c7a-62fdbead7f43",
   "metadata": {},
   "outputs": [],
   "source": []
  }
 ],
 "metadata": {
  "kernelspec": {
   "display_name": "Python 3 (ipykernel)",
   "language": "python",
   "name": "python3"
  },
  "language_info": {
   "codemirror_mode": {
    "name": "ipython",
    "version": 3
   },
   "file_extension": ".py",
   "mimetype": "text/x-python",
   "name": "python",
   "nbconvert_exporter": "python",
   "pygments_lexer": "ipython3",
   "version": "3.10.9"
  }
 },
 "nbformat": 4,
 "nbformat_minor": 5
}
