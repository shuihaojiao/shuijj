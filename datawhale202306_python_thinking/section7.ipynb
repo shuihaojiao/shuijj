{
 "cells": [
  {
   "cell_type": "markdown",
   "id": "e73158a4-251f-451f-8e4e-f5feaeba5a3a",
   "metadata": {},
   "source": [
    "# 5 面向对象的编程\n",
    "Python 中有一个叫做“类（class）”的结构，能够让你用一种特定的方式**结构化**你的软件。通过使用类，你可以让你的程序保持连贯性，使用起来更清晰。\n",
    "\n",
    "## 5.1 类的例子"
   ]
  },
  {
   "cell_type": "code",
   "execution_count": 1,
   "id": "d06f1ba7-8920-42e6-b10d-e1360ed72a2f",
   "metadata": {},
   "outputs": [
    {
     "name": "stdout",
     "output_type": "stream",
     "text": [
      "Happy birthday to you\n",
      "I don't want to get sued\n",
      "So I'll stop right there\n"
     ]
    }
   ],
   "source": [
    "class Song(object):\n",
    "    # class表示要创建类，Song表示类的名称\n",
    "    def __init__(self,lyrics):#构造方法，根据类创建对象时自动执行\n",
    "        self.lyrics = lyrics\n",
    "        \n",
    "    def sing_me_a_song(self):#定义sing_me_a_song函数\n",
    "        for line in self.lyrics:\n",
    "            print(line)\n",
    "\n",
    "happy_bady = Song([\"Happy birthday to you\",\n",
    "                   \"I don't want to get sued\",\n",
    "                   \"So I'll stop right there\"])\n",
    "happy_bady.sing_me_a_song()"
   ]
  },
  {
   "cell_type": "markdown",
   "id": "ea38a736-191b-4180-aa9b-c4732c82d593",
   "metadata": {},
   "source": [
    "#### 为什么我在类下面用__init__函数或者其他函数的时候要用self ？\n",
    "\n",
    "答： 如果你不用self，那么像cheese = 'Frank'这样的代码就会很含糊，计算机不知道你是指实例的cheese属性还是一个叫做cheese的局部变量。而用self.cheese = 'Frank'的话就会很清晰，你是指实例的属性self.cheese。"
   ]
  },
  {
   "cell_type": "markdown",
   "id": "db155042-9d75-4c01-9a59-a63e9b038e99",
   "metadata": {},
   "source": [
    "## 5.2 学着去说面向对象"
   ]
  },
  {
   "cell_type": "markdown",
   "id": "732b02cb-b131-4588-b711-c2cc85033ffd",
   "metadata": {},
   "source": [
    "# 5.3 编写一个属于自己的小游戏"
   ]
  },
  {
   "cell_type": "code",
   "execution_count": 2,
   "id": "c57c8abb-1b95-4878-a3b8-aa9ca694d634",
   "metadata": {},
   "outputs": [
    {
     "name": "stdout",
     "output_type": "stream",
     "text": [
      "所有神奇宝贝第一次战斗后详细情况\n",
      "姓名:皮卡丘,属性:电,战斗力:900\n",
      "姓名:喷火龙,属性:火,战斗力:1800\n",
      "姓名:妙蛙种子,属性:草,战斗力:600\n",
      "姓名:杰尼龟,属性:水,战斗力:1100\n",
      "--------------------------------\n",
      "所有神奇宝贝训练后详细情况\n",
      "姓名:皮卡丘,属性:电,战斗力:1100\n",
      "姓名:喷火龙,属性:火,战斗力:2000\n",
      "姓名:妙蛙种子,属性:草,战斗力:800\n",
      "姓名:杰尼龟,属性:水,战斗力:1300\n"
     ]
    }
   ],
   "source": [
    "class Pokemon:\n",
    "    def __init__(self,name,attributes,warnum):\n",
    "        self.name = name\n",
    "        self.attributes = attributes\n",
    "        self.warnum = warnum\n",
    "    \n",
    "    def grass(self):\n",
    "        self.warnum = self.warnum - 100\n",
    "        \n",
    "    def rock(self):\n",
    "        self.warnum = self.warnum - 200\n",
    "    \n",
    "    def train(self):\n",
    "        self.warnum = self.warnum + 200\n",
    "        \n",
    "    def detail(self):\n",
    "        temp = \"姓名:%s,属性:%s,战斗力:%s\"%(self.name,self.attributes,self.warnum)\n",
    "        print(temp)\n",
    "        \n",
    "#开始游戏，创建角色\n",
    "Pikachu = Pokemon('皮卡丘','电',1000)\n",
    "Charizard = Pokemon('喷火龙','火',2000)\n",
    "Bulbasaur = Pokemon('妙蛙种子','草',700)\n",
    "Squirtle = Pokemon('杰尼龟','水',1300)\n",
    "\n",
    "\n",
    "#开始第一次战斗\n",
    "Pikachu.grass()            #皮卡丘在草丛中战斗\n",
    "Charizard.rock()          #喷火龙在岩石中战斗\n",
    "Bulbasaur.grass()          #妙蛙种子在草丛中战斗\n",
    "Squirtle.rock()            #杰尼龟在岩石中战斗\n",
    "\n",
    "\n",
    "print(\"所有神奇宝贝第一次战斗后详细情况\")\n",
    "Pikachu.detail()\n",
    "Charizard.detail()\n",
    "Bulbasaur.detail()\n",
    "Squirtle.detail()\n",
    "\n",
    "#开始训练\n",
    "Pikachu.train()\n",
    "Charizard.train()\n",
    "Bulbasaur.train()\n",
    "Squirtle.train()\n",
    "print(\"--------------------------------\")\n",
    "print(\"所有神奇宝贝训练后详细情况\")\n",
    "Pikachu.detail()\n",
    "Charizard.detail()\n",
    "Bulbasaur.detail()\n",
    "Squirtle.detail()"
   ]
  },
  {
   "cell_type": "code",
   "execution_count": null,
   "id": "ddc1bfaf-d1a4-4e4a-94a2-53ca95cf72fd",
   "metadata": {},
   "outputs": [],
   "source": []
  }
 ],
 "metadata": {
  "kernelspec": {
   "display_name": "Python 3 (ipykernel)",
   "language": "python",
   "name": "python3"
  },
  "language_info": {
   "codemirror_mode": {
    "name": "ipython",
    "version": 3
   },
   "file_extension": ".py",
   "mimetype": "text/x-python",
   "name": "python",
   "nbconvert_exporter": "python",
   "pygments_lexer": "ipython3",
   "version": "3.10.9"
  }
 },
 "nbformat": 4,
 "nbformat_minor": 5
}
